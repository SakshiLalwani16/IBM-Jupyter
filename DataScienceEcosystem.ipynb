{
 "cells": [
  {
   "cell_type": "markdown",
   "id": "50f123a1-499e-4f72-ad84-eb13ab91a850",
   "metadata": {},
   "source": [
    "# Data Science Tools and Ecosystem"
   ]
  },
  {
   "cell_type": "markdown",
   "id": "417330c4-81a1-44af-8fa0-fc4d6e2c001e",
   "metadata": {},
   "source": [
    "### In this notebook, Data Science Tools and Ecosystem are summarized."
   ]
  },
  {
   "cell_type": "markdown",
   "id": "fe7b550f-6a4b-417c-b02c-bdf33b67b11b",
   "metadata": {},
   "source": [
    " __Objectives__"
   ]
  },
  {
   "cell_type": "markdown",
   "id": "fb20df27-2a02-48d5-ab87-780a953d700a",
   "metadata": {},
   "source": [
    "- Popular Languages for Data Science\n",
    "- Common libraries used by Data Scientists\n",
    "- Tools used in Data Science\n",
    "- Examples of Arithmetic Expressions in Python"
   ]
  },
  {
   "cell_type": "markdown",
   "id": "813715c1-4397-47ec-9013-fe7f9da08118",
   "metadata": {},
   "source": [
    "Some of the popular languages that Data Scientists use are:"
   ]
  },
  {
   "cell_type": "markdown",
   "id": "83d069f5-cc75-4128-b4f0-43d5270be7fe",
   "metadata": {},
   "source": [
    "1. Python\n",
    "2. R\n",
    "3. SQL\n",
    "4. Julia"
   ]
  },
  {
   "cell_type": "markdown",
   "id": "65cdda36-4871-4903-b942-e526a26654ec",
   "metadata": {},
   "source": [
    "Some of the commonly used libraries used by Data Scientists include:"
   ]
  },
  {
   "cell_type": "markdown",
   "id": "9c03ceb8-9ebf-4d6e-8b3b-9ccd04ac2ac9",
   "metadata": {},
   "source": [
    "1. Matplotlib\n",
    "2. NumPy\n",
    "3. Scikit-learn \n",
    "4. TensorFlow"
   ]
  },
  {
   "cell_type": "markdown",
   "id": "4666a8cc-80cf-47e1-8667-e7fb9c393b58",
   "metadata": {},
   "source": [
    "| Data Science Tools |\n",
    "| -------------------|\n",
    "| VS Code|\n",
    "| Jupyterlab |\n",
    "| RStudio  | "
   ]
  },
  {
   "cell_type": "markdown",
   "id": "076667fe-6bd3-4d05-bd00-609806162715",
   "metadata": {},
   "source": [
    "### Below are a few examples of evaluating arithmetic expressions in Python"
   ]
  },
  {
   "cell_type": "markdown",
   "id": "f9306182-c8de-487f-b018-82885a84b8c6",
   "metadata": {},
   "source": [
    "This a simple arithmetic expression to mutiply then add integers"
   ]
  },
  {
   "cell_type": "code",
   "execution_count": 3,
   "id": "bd8b0caf-52a5-4aed-a2b8-5e61dd894213",
   "metadata": {},
   "outputs": [
    {
     "data": {
      "text/plain": [
       "17"
      ]
     },
     "execution_count": 3,
     "metadata": {},
     "output_type": "execute_result"
    }
   ],
   "source": [
    "(3*4)+5 "
   ]
  },
  {
   "cell_type": "markdown",
   "id": "aed6566e-cc56-42de-a234-aed46219e388",
   "metadata": {},
   "source": [
    "This will convert 200 minutes to hours by diving by 60"
   ]
  },
  {
   "cell_type": "code",
   "execution_count": 7,
   "id": "204e7f2b-9853-4132-b2ed-cca365155409",
   "metadata": {},
   "outputs": [
    {
     "data": {
      "text/plain": [
       "3.3333333333333335"
      ]
     },
     "execution_count": 7,
     "metadata": {},
     "output_type": "execute_result"
    }
   ],
   "source": [
    "200/60"
   ]
  },
  {
   "cell_type": "markdown",
   "id": "0c66d101-546a-49ce-827f-0f5e15a7875c",
   "metadata": {},
   "source": [
    "## Author\n",
    "Sakshi Lalwani "
   ]
  },
  {
   "cell_type": "code",
   "execution_count": null,
   "id": "959aa8e2-bcba-44a4-a7c6-9308b1b6959e",
   "metadata": {},
   "outputs": [],
   "source": []
  }
 ],
 "metadata": {
  "kernelspec": {
   "display_name": "anaconda-panel-2023.05-py310",
   "language": "python",
   "name": "conda-env-anaconda-panel-2023.05-py310-py"
  },
  "language_info": {
   "codemirror_mode": {
    "name": "ipython",
    "version": 3
   },
   "file_extension": ".py",
   "mimetype": "text/x-python",
   "name": "python",
   "nbconvert_exporter": "python",
   "pygments_lexer": "ipython3",
   "version": "3.11.5"
  }
 },
 "nbformat": 4,
 "nbformat_minor": 5
}
